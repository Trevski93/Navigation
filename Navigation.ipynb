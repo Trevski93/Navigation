{
 "cells": [
  {
   "cell_type": "markdown",
   "metadata": {},
   "source": [
    "# Navigation\n",
    "\n",
    "---\n",
    "\n",
    "You are welcome to use this coding environment to train your agent for the project.  Follow the instructions below to get started!\n",
    "\n",
    "### 1. Start the Environment\n",
    "\n",
    "Run the next code cell to install a few packages.  This line will take a few minutes to run!"
   ]
  },
  {
   "cell_type": "code",
   "execution_count": 3,
   "metadata": {},
   "outputs": [
    {
     "name": "stdout",
     "output_type": "stream",
     "text": [
      "\u001b[31mtensorflow 1.7.1 has requirement numpy>=1.13.3, but you'll have numpy 1.12.1 which is incompatible.\u001b[0m\r\n",
      "\u001b[31mipython 6.5.0 has requirement prompt-toolkit<2.0.0,>=1.0.15, but you'll have prompt-toolkit 3.0.29 which is incompatible.\u001b[0m\r\n",
      "\u001b[31mjupyter-console 6.4.3 has requirement jupyter-client>=7.0.0, but you'll have jupyter-client 5.2.4 which is incompatible.\u001b[0m\r\n"
     ]
    }
   ],
   "source": [
    "!pip -q install ./python"
   ]
  },
  {
   "cell_type": "markdown",
   "metadata": {},
   "source": [
    "The environment is already saved in the Workspace and can be accessed at the file path provided below.  Please run the next code cell without making any changes."
   ]
  },
  {
   "cell_type": "code",
   "execution_count": 4,
   "metadata": {},
   "outputs": [
    {
     "name": "stderr",
     "output_type": "stream",
     "text": [
      "INFO:unityagents:\n",
      "'Academy' started successfully!\n",
      "Unity Academy name: Academy\n",
      "        Number of Brains: 1\n",
      "        Number of External Brains : 1\n",
      "        Lesson number : 0\n",
      "        Reset Parameters :\n",
      "\t\t\n",
      "Unity brain name: BananaBrain\n",
      "        Number of Visual Observations (per agent): 0\n",
      "        Vector Observation space type: continuous\n",
      "        Vector Observation space size (per agent): 37\n",
      "        Number of stacked Vector Observation: 1\n",
      "        Vector Action space type: discrete\n",
      "        Vector Action space size (per agent): 4\n",
      "        Vector Action descriptions: , , , \n"
     ]
    }
   ],
   "source": [
    "from unityagents import UnityEnvironment\n",
    "import numpy as np\n",
    "\n",
    "# please do not modify the line below\n",
    "env = UnityEnvironment(file_name=\"/data/Banana_Linux_NoVis/Banana.x86_64\")"
   ]
  },
  {
   "cell_type": "markdown",
   "metadata": {},
   "source": [
    "Environments contain **_brains_** which are responsible for deciding the actions of their associated agents. Here we check for the first brain available, and set it as the default brain we will be controlling from Python."
   ]
  },
  {
   "cell_type": "code",
   "execution_count": 5,
   "metadata": {},
   "outputs": [],
   "source": [
    "# get the default brain\n",
    "brain_name = env.brain_names[0]\n",
    "brain = env.brains[brain_name]"
   ]
  },
  {
   "cell_type": "markdown",
   "metadata": {},
   "source": [
    "### 2. Examine the State and Action Spaces\n",
    "\n",
    "Run the code cell below to print some information about the environment."
   ]
  },
  {
   "cell_type": "code",
   "execution_count": 6,
   "metadata": {},
   "outputs": [
    {
     "name": "stdout",
     "output_type": "stream",
     "text": [
      "Number of agents: 1\n",
      "Number of actions: 4\n",
      "States look like: [ 1.          0.          0.          0.          0.84408134  0.          0.\n",
      "  1.          0.          0.0748472   0.          1.          0.          0.\n",
      "  0.25755     1.          0.          0.          0.          0.74177343\n",
      "  0.          1.          0.          0.          0.25854847  0.          0.\n",
      "  1.          0.          0.09355672  0.          1.          0.          0.\n",
      "  0.31969345  0.          0.        ]\n",
      "States have length: 37\n"
     ]
    }
   ],
   "source": [
    "# reset the environment\n",
    "env_info = env.reset(train_mode=True)[brain_name]\n",
    "\n",
    "# number of agents in the environment\n",
    "print('Number of agents:', len(env_info.agents))\n",
    "\n",
    "# number of actions\n",
    "action_size = brain.vector_action_space_size\n",
    "print('Number of actions:', action_size)\n",
    "\n",
    "# examine the state space \n",
    "state = env_info.vector_observations[0]\n",
    "print('States look like:', state)\n",
    "state_size = len(state)\n",
    "print('States have length:', state_size)"
   ]
  },
  {
   "cell_type": "markdown",
   "metadata": {},
   "source": [
    "### 3. Take Random Actions in the Environment\n",
    "\n",
    "In the next code cell, you will learn how to use the Python API to control the agent and receive feedback from the environment.\n",
    "\n",
    "Note that **in this coding environment, you will not be able to watch the agent while it is training**, and you should set `train_mode=True` to restart the environment."
   ]
  },
  {
   "cell_type": "code",
   "execution_count": 7,
   "metadata": {},
   "outputs": [
    {
     "name": "stdout",
     "output_type": "stream",
     "text": [
      "Score: 0.0\n"
     ]
    }
   ],
   "source": [
    "env_info = env.reset(train_mode=True)[brain_name] # reset the environment\n",
    "state = env_info.vector_observations[0]            # get the current state\n",
    "score = 0                                          # initialize the score\n",
    "while True:\n",
    "    action = np.random.randint(action_size)        # select an action\n",
    "    env_info = env.step(action)[brain_name]        # send the action to the environment\n",
    "    next_state = env_info.vector_observations[0]   # get the next state\n",
    "    reward = env_info.rewards[0]                   # get the reward\n",
    "    done = env_info.local_done[0]                  # see if episode has finished\n",
    "    score += reward                                # update the score\n",
    "    state = next_state                             # roll over the state to next time step\n",
    "    if done:                                       # exit loop if episode finished\n",
    "        break\n",
    "    \n",
    "print(\"Score: {}\".format(score))"
   ]
  },
  {
   "cell_type": "markdown",
   "metadata": {},
   "source": [
    "When finished, you can close the environment."
   ]
  },
  {
   "cell_type": "code",
   "execution_count": 8,
   "metadata": {},
   "outputs": [],
   "source": [
    "#env.close()"
   ]
  },
  {
   "cell_type": "markdown",
   "metadata": {},
   "source": [
    "### 4. It's Your Turn!\n",
    "\n",
    "Now it's your turn to train your own agent to solve the environment!  A few **important notes**:\n",
    "- When training the environment, set `train_mode=True`, so that the line for resetting the environment looks like the following:\n",
    "```python\n",
    "env_info = env.reset(train_mode=True)[brain_name]\n",
    "```\n",
    "- To structure your work, you're welcome to work directly in this Jupyter notebook, or you might like to start over with a new file!  You can see the list of files in the workspace by clicking on **_Jupyter_** in the top left corner of the notebook.\n",
    "- In this coding environment, you will not be able to watch the agent while it is training.  However, **_after training the agent_**, you can download the saved model weights to watch the agent on your own machine! "
   ]
  },
  {
   "cell_type": "code",
   "execution_count": 9,
   "metadata": {},
   "outputs": [],
   "source": [
    "import torch \n",
    "import torch.nn as nn\n",
    "import torch.nn.functional as F \n",
    "import torch.optim as optim \n",
    "\n",
    "import matplotlib.pyplot as plt\n",
    "\n",
    "# Set plotting options\n",
    "%matplotlib inline\n",
    "plt.style.use('ggplot')\n",
    "np.set_printoptions(precision=3, linewidth=120)\n",
    "\n",
    "from collections import namedtuple\n",
    "from collections import deque\n",
    "import random"
   ]
  },
  {
   "cell_type": "markdown",
   "metadata": {},
   "source": [
    "The QNetwork class below is used to create the deep learning architecture that is used to approximate Q* for the reinforcement learning problem. In this implementation, I am using 4 linear layers with relu activation after each one but the last linear layer. I could have used three layers like the previous assignment, but decided to instead try four layers to see how it would perform. Typically, deeper models with higher dimensions have a greater capacity to learn. "
   ]
  },
  {
   "cell_type": "code",
   "execution_count": 10,
   "metadata": {},
   "outputs": [],
   "source": [
    "class QNetwork(nn.Module): \n",
    "    \n",
    "    def __init__(self, state_size, action_size,seed): \n",
    "        super(QNetwork,self).__init__()\n",
    "        \n",
    "        self.seed = torch.manual_seed(seed)\n",
    "        \n",
    "        self.state_size = state_size\n",
    "        self.action_size = action_size\n",
    "        \n",
    "        ##Model Architecture \n",
    "        \n",
    "        self.fc_layer1 = nn.Linear(self.state_size, self.state_size*4 )\n",
    "        self.fc_layer2 = nn.Linear(self.state_size*4, self.state_size*8)\n",
    "        self.fc_layer3 = nn.Linear(self.state_size*8, self.state_size*2)\n",
    "        self.fc_layer4 = nn.Linear(self.state_size*2, self.action_size)\n",
    "        \n",
    "        self.relu = nn.ReLU()\n",
    "        \n",
    "    def forward(self,state): \n",
    "        \n",
    "        x = self.fc_layer1(state)\n",
    "        x = self.relu(x)\n",
    "        \n",
    "        x = self.fc_layer2(x)\n",
    "        x = self.relu(x)\n",
    "        \n",
    "        x = self.fc_layer3(x)\n",
    "        x = self.relu(x)\n",
    "        \n",
    "        x = self.fc_layer4(x)\n",
    "        \n",
    "        return x \n",
    "    "
   ]
  },
  {
   "cell_type": "markdown",
   "metadata": {},
   "source": [
    "Below I am using the standard hyperparameters that we have previously used in our previous DQN exercises. Buffer size is the size of memory. Gamma is used to determine how important future rewards are versus immediate rewards. TAU is used in the soft update when copying over some fraction of the local q model weights to the target q model weights. LR is the learning rate used to determine how big of a step we take in the gradient direction when improving the model."
   ]
  },
  {
   "cell_type": "code",
   "execution_count": 11,
   "metadata": {},
   "outputs": [],
   "source": [
    "BUFFER_SIZE = int(1e5)\n",
    "BATCH_SIZE = 64 \n",
    "GAMMA = 0.99\n",
    "TAU = 1e-3\n",
    "LR = 5e-4\n",
    "UPDATE_EVERY = 4 \n",
    "\n",
    "device = torch.device(\"cuda:0\" if torch.cuda.is_available() else \"cpu\")"
   ]
  },
  {
   "cell_type": "markdown",
   "metadata": {},
   "source": [
    "Below I am creating an agent class which contains the blueprint for all the properties and methods needed for it to solve the bananna navigation problem. The code was adapted from our previous DQN exercise to work with the Unity Environment. While learning, the agent uses the gradient of the MSE loss between the TD target and current value for the local q table. "
   ]
  },
  {
   "cell_type": "code",
   "execution_count": 12,
   "metadata": {},
   "outputs": [],
   "source": [
    "class Agent():\n",
    "        def __init__(self,state_size, action_size ,seed): \n",
    "            \n",
    "            self.state_size = state_size \n",
    "            self.action_size = action_size  \n",
    "\n",
    "            self.seed = random.seed(seed)\n",
    "            \n",
    "            #DQN-Network \n",
    "            self.qnetwork_local = QNetwork(state_size, action_size, seed).to(device)\n",
    "            self.qnetwork_target = QNetwork(state_size, action_size, seed).to(device)\n",
    "            self.optimizer = optim.Adam(self.qnetwork_local.parameters(), lr=LR)\n",
    "            \n",
    "            #Replay Memory\n",
    "            self.memory = ReplayBuffer(action_size, BUFFER_SIZE, BATCH_SIZE, seed) \n",
    "            self.t_step = 0\n",
    "            \n",
    "        def step(self, state, action, reward, next_state,done):\n",
    "            \n",
    "            #save experience in replay memory \n",
    "            self.memory.add(state, action, reward, next_state, done)\n",
    "            \n",
    "            self.t_step = (self.t_step + 1) % UPDATE_EVERY\n",
    "            if self.t_step == 0: \n",
    "                \n",
    "                if len(self.memory) > BATCH_SIZE:\n",
    "                    experiences = self.memory.sample()\n",
    "                    \n",
    "                    self.learn(experiences, GAMMA)\n",
    "                    \n",
    "        def act(self, state, eps = 0):\n",
    "            \n",
    "            state = torch.from_numpy(state).float().unsqueeze(0).to(device)\n",
    "            \n",
    "            self.qnetwork_local.eval()\n",
    "            action_values = self.qnetwork_local(state)\n",
    "            self.qnetwork_local.train()\n",
    "            \n",
    "            if random.random() > eps: \n",
    "                return np.argmax(action_values.cpu().data.numpy())\n",
    "            \n",
    "            else: \n",
    "                return random.choice(np.arange(self.action_size))\n",
    "            \n",
    "        \n",
    "        def learn(self,experiences, gamma): \n",
    "            \n",
    "            states, actions, rewards, next_states , dones = experiences\n",
    "            \n",
    "            Q_targets_next = self.qnetwork_target(next_states).detach().max(1)[0].unsqueeze(1)\n",
    "            Q_targets = rewards + (gamma * Q_targets_next * (1 - dones))\n",
    "            Q_expected = self.qnetwork_local(states).gather(1, actions)\n",
    "            \n",
    "            loss = F.mse_loss(Q_expected, Q_targets)\n",
    "            \n",
    "            self.optimizer.zero_grad()\n",
    "            loss.backward()\n",
    "            self.optimizer.step()\n",
    "            \n",
    "            self.soft_update(self.qnetwork_local, self.qnetwork_target, TAU)\n",
    "            \n",
    "            \n",
    "        def soft_update(self,local_model,target_model, tau):\n",
    "            \"\"\"update formula θ_target = τ*θ_local + (1 - τ)*θ_target\"\"\"\n",
    "            \n",
    "            for target_param, local_param in zip(target_model.parameters(),local_model.parameters()): \n",
    "                target_param.data.copy_(tau*local_param.data +(1.0-tau)*target_param.data)\n",
    "            "
   ]
  },
  {
   "cell_type": "markdown",
   "metadata": {},
   "source": [
    "The replay buffer object is used to collect and sample experiences the agent has interacting with the environment. "
   ]
  },
  {
   "cell_type": "code",
   "execution_count": 13,
   "metadata": {},
   "outputs": [],
   "source": [
    "class ReplayBuffer:\n",
    "    \n",
    "    def __init__(self, action_size, buffer_size, batch_size, seed):\n",
    "        self.action_size = action_size \n",
    "        self.memory = deque(maxlen=buffer_size)\n",
    "        self.batch_size = batch_size \n",
    "        self.experience = namedtuple(\"Experience\",field_names=[\"state\",\"action\",\"reward\",\"next_state\",\"done\"])\n",
    "        self.seed = random.seed(seed)\n",
    "        \n",
    "        \n",
    "    def add(self, state, action,reward, next_state, done): \n",
    "        e = self.experience(state, action,reward, next_state, done)\n",
    "        self.memory.append(e)\n",
    "        \n",
    "    \n",
    "    def sample(self):\n",
    "        experiences = random.sample(self.memory, k=self.batch_size)\n",
    "        \n",
    "        states = torch.from_numpy(np.vstack([e.state for e in experiences if e is not None])).float().to(device)\n",
    "        actions = torch.from_numpy(np.vstack([e.action for e in experiences if e is not None])).long().to(device)\n",
    "        rewards = torch.from_numpy(np.vstack([e.reward for e in experiences if e is not None])).float().to(device)\n",
    "        next_states = torch.from_numpy(np.vstack([e.next_state for e in experiences if e is not None])).float().to(device)\n",
    "        dones = torch.from_numpy(np.vstack([int(e.done) for e in experiences if e is not None]).astype(np.uint8)).float().to(device)\n",
    "        \n",
    "        return (states, actions, rewards, next_states, dones)\n",
    "    \n",
    "    def __len__(self):\n",
    "        \"\"\"Return the current size of internal memory.\"\"\"\n",
    "        return len(self.memory)\n",
    "    "
   ]
  },
  {
   "cell_type": "markdown",
   "metadata": {},
   "source": [
    "Below the environment is simulated where the agent learns while interacting with it. "
   ]
  },
  {
   "cell_type": "code",
   "execution_count": 14,
   "metadata": {},
   "outputs": [],
   "source": [
    "def dqn(env, n_episodes = 2000, max_t =1000, eps_start = 1.0 , eps_end=0.01, eps_decay=0.995):\n",
    "    \"\"\"\n",
    "    max_t : max number of timesteps per episode\n",
    "    eps_start : starting value of epsilon\n",
    "    eps_end: min value of epsilon \n",
    "    eps_decay: multiplicative factor )(per episode) for decreasing epsilon \n",
    "    \n",
    "    \"\"\"\n",
    "    \n",
    "    scores = []\n",
    "    scores_window = deque(maxlen=100)\n",
    "    eps = eps_start \n",
    "    agent = Agent(state_size = 37,action_size = 4, seed = 0)   \n",
    "    \n",
    "    for i_episode in range(1, n_episodes+1): \n",
    "        \n",
    "        env_info = env.reset(train_mode=True)[brain_name]\n",
    "        state = env_info.vector_observations[0]     \n",
    "        score = 0 \n",
    "        \n",
    "        for t in range(max_t):\n",
    "            action = agent.act(state,eps)\n",
    "            env_info = env.step(action)[brain_name]\n",
    "            next_state = env_info.vector_observations[0]\n",
    "            reward = env_info.rewards[0]  \n",
    "            done = env_info.local_done[0]\n",
    "            agent.step(state, action, reward, next_state, done)\n",
    "            \n",
    "            state = next_state \n",
    "            \n",
    "            score += reward\n",
    "        \n",
    "            if done: \n",
    "                break\n",
    "            \n",
    "        scores_window.append(score)\n",
    "        scores.append(score)\n",
    "        eps = max(eps_end, eps_decay*eps)\n",
    "        \n",
    "        \n",
    "        print('\\rEpisode {}\\tAverage Score: {:.2f}'.format(i_episode, np.mean(scores_window)), end=\"\")\n",
    "        if i_episode % 100 == 0:\n",
    "            print('\\rEpisode {}\\tAverage Score: {:.2f}'.format(i_episode, np.mean(scores_window)))\n",
    "        if np.mean(scores_window)>=13.0:\n",
    "            print('\\nEnvironment solved in {:d} episodes!\\tAverage Score: {:.2f}'.format(i_episode-100, np.mean(scores_window)))\n",
    "            torch.save(agent.qnetwork_local.state_dict(), 'checkpoint.pth')\n",
    "            break\n",
    "    return scores\n"
   ]
  },
  {
   "cell_type": "code",
   "execution_count": 15,
   "metadata": {
    "scrolled": false
   },
   "outputs": [
    {
     "name": "stdout",
     "output_type": "stream",
     "text": [
      "Episode 100\tAverage Score: 1.15\n",
      "Episode 200\tAverage Score: 3.76\n",
      "Episode 300\tAverage Score: 6.08\n",
      "Episode 400\tAverage Score: 9.30\n",
      "Episode 500\tAverage Score: 12.17\n",
      "Episode 547\tAverage Score: 13.00\n",
      "Environment solved in 447 episodes!\tAverage Score: 13.00\n"
     ]
    }
   ],
   "source": [
    "scores = dqn(env)"
   ]
  },
  {
   "cell_type": "code",
   "execution_count": 16,
   "metadata": {},
   "outputs": [
    {
     "data": {
      "image/png": "[encoded data removed]",
      "text/plain": [
       "<matplotlib.figure.Figure at 0x7f8398c60748>"
      ]
     },
     "metadata": {
      "needs_background": "light"
     },
     "output_type": "display_data"
    }
   ],
   "source": [
    "# Plot scores obtained per episode\n",
    "plt.plot(scores); plt.title(\"Scores\");"
   ]
  },
  {
   "cell_type": "markdown",
   "metadata": {},
   "source": [
    "#### Future Work \n",
    "\n",
    "The agent uses standard experienced replay and fixed q-targets while learning. If the agent had been unable to solve the banana navigation problem in a reasonable amount of time, I would have explored using prioritized replay and double dqn to see how much performance would improve. These 2 improvements could be potential future work for this project. "
   ]
  },
  {
   "cell_type": "code",
   "execution_count": null,
   "metadata": {},
   "outputs": [],
   "source": []
  }
 ],
 "metadata": {
  "kernelspec": {
   "display_name": "Python 3",
   "language": "python",
   "name": "python3"
  },
  "language_info": {
   "codemirror_mode": {
    "name": "ipython",
    "version": 3
   },
   "file_extension": ".py",
   "mimetype": "text/x-python",
   "name": "python",
   "nbconvert_exporter": "python",
   "pygments_lexer": "ipython3",
   "version": "3.6.3"
  }
 },
 "nbformat": 4,
 "nbformat_minor": 2
}
